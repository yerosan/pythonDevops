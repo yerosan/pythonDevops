{
  "cells": [
    {
      "cell_type": "markdown",
      "metadata": {
        "colab_type": "text",
        "id": "view-in-github"
      },
      "source": [
        "<a href=\"https://colab.research.google.com/github/noahgift/python-for-devops-april-2022/blob/main/intro_concepts.ipynb\" target=\"_parent\"><img src=\"https://colab.research.google.com/assets/colab-badge.svg\" alt=\"Open In Colab\"/></a>"
      ]
    },
    {
      "cell_type": "markdown",
      "metadata": {
        "id": "6HJtGuiKUYFU"
      },
      "source": [
        "### Introductory Concepts\n",
        "*  **Procedural Statements**\n",
        "*  Strings and String Formatting\n",
        "*  Numbers and Arithmetic Operations\n",
        "*  Data Structures\n",
        "\n"
      ]
    },
    {
      "cell_type": "markdown",
      "metadata": {
        "id": "19kLrCcsPX3Q"
      },
      "source": [
        "#### Procedural Statements"
      ]
    },
    {
      "cell_type": "code",
      "execution_count": 1,
      "metadata": {
        "colab": {
          "base_uri": "https://localhost:8080/"
        },
        "id": "hkCnk1r_O0os",
        "outputId": "68b21610-9a0c-49ac-ce01-96e85fdf6ab7"
      },
      "outputs": [
        {
          "name": "stdout",
          "output_type": "stream",
          "text": [
            "Hello World\n"
          ]
        }
      ],
      "source": [
        "print(\"Hello World\")"
      ]
    },
    {
      "cell_type": "code",
      "execution_count": 2,
      "metadata": {
        "id": "OWvtYa39PeUY"
      },
      "outputs": [],
      "source": [
        "x = 1\n",
        "y = 1\n",
        "result = x + y"
      ]
    },
    {
      "cell_type": "code",
      "execution_count": 3,
      "metadata": {
        "colab": {
          "base_uri": "https://localhost:8080/"
        },
        "id": "N8LQULMCPmZx",
        "outputId": "aa7f9a92-6d1f-4c39-c6d3-fc885d6897b4"
      },
      "outputs": [
        {
          "data": {
            "text/plain": [
              "2"
            ]
          },
          "execution_count": 3,
          "metadata": {},
          "output_type": "execute_result"
        }
      ],
      "source": [
        "result"
      ]
    },
    {
      "cell_type": "code",
      "execution_count": null,
      "metadata": {
        "id": "gvr3tRtTPnW4"
      },
      "outputs": [],
      "source": []
    },
    {
      "cell_type": "markdown",
      "metadata": {
        "id": "Bxds-FAxPy2n"
      },
      "source": [
        "#### Strings and String Formatting"
      ]
    },
    {
      "cell_type": "code",
      "execution_count": 4,
      "metadata": {
        "colab": {
          "base_uri": "https://localhost:8080/"
        },
        "id": "NPTDW5duPz9_",
        "outputId": "d1b3dc01-c499-4671-ee24-678aa3f108d6"
      },
      "outputs": [
        {
          "name": "stdout",
          "output_type": "stream",
          "text": [
            "My favorite shirt is red\n"
          ]
        }
      ],
      "source": [
        "color = \"red\"\n",
        "print(f\"My favorite shirt is {color}\")"
      ]
    },
    {
      "cell_type": "code",
      "execution_count": null,
      "metadata": {
        "id": "092_iMb5P_jk"
      },
      "outputs": [],
      "source": []
    },
    {
      "cell_type": "markdown",
      "metadata": {
        "id": "4CMfbJQ2QEdW"
      },
      "source": [
        "#### Numbers and Arithmetic Operations"
      ]
    },
    {
      "cell_type": "code",
      "execution_count": 5,
      "metadata": {
        "colab": {
          "base_uri": "https://localhost:8080/"
        },
        "id": "l-YU7u6uQFyM",
        "outputId": "1a2b3947-1f4e-45c6-e266-1943a0493eab"
      },
      "outputs": [
        {
          "data": {
            "text/plain": [
              "4"
            ]
          },
          "execution_count": 5,
          "metadata": {},
          "output_type": "execute_result"
        }
      ],
      "source": [
        "x = 2\n",
        "x ** 2"
      ]
    },
    {
      "cell_type": "code",
      "execution_count": 9,
      "metadata": {
        "id": "qlQXZPl7QM3L"
      },
      "outputs": [],
      "source": [
        "X = x ** 3"
      ]
    },
    {
      "cell_type": "code",
      "execution_count": 7,
      "metadata": {
        "id": "31fG_OmtQOvC"
      },
      "outputs": [],
      "source": [
        "import math"
      ]
    },
    {
      "cell_type": "code",
      "execution_count": 10,
      "metadata": {
        "colab": {
          "base_uri": "https://localhost:8080/"
        },
        "id": "Otm0a6g0QTN6",
        "outputId": "cbfaad41-bcc1-4a55-d3b8-ad84ee18e3f7"
      },
      "outputs": [
        {
          "data": {
            "text/plain": [
              "2.0794415416798357"
            ]
          },
          "execution_count": 10,
          "metadata": {},
          "output_type": "execute_result"
        }
      ],
      "source": [
        "math.log(X)"
      ]
    },
    {
      "cell_type": "code",
      "execution_count": null,
      "metadata": {
        "id": "okMcl7q5QaeY"
      },
      "outputs": [],
      "source": []
    },
    {
      "cell_type": "markdown",
      "metadata": {
        "id": "pJaJSkOjQm3v"
      },
      "source": [
        "#### Data Structures"
      ]
    },
    {
      "cell_type": "markdown",
      "metadata": {
        "id": "KVqr4M-rRAJE"
      },
      "source": [
        "List"
      ]
    },
    {
      "cell_type": "code",
      "execution_count": 11,
      "metadata": {
        "colab": {
          "base_uri": "https://localhost:8080/"
        },
        "id": "IJMwf3poQqje",
        "outputId": "aa930334-6424-4a77-aa39-56362f4a4241"
      },
      "outputs": [
        {
          "data": {
            "text/plain": [
              "list"
            ]
          },
          "execution_count": 11,
          "metadata": {},
          "output_type": "execute_result"
        }
      ],
      "source": [
        "my_list = [\"red\", \"yellow\", \"green\"]\n",
        "type(my_list)"
      ]
    },
    {
      "cell_type": "code",
      "execution_count": 12,
      "metadata": {
        "colab": {
          "base_uri": "https://localhost:8080/"
        },
        "id": "WQIE1lsEQxK1",
        "outputId": "2ee57abe-991c-4527-af88-ed8a07b20246"
      },
      "outputs": [
        {
          "name": "stdout",
          "output_type": "stream",
          "text": [
            "This is my favorite red\n",
            "This is my favorite yellow\n",
            "This is my favorite green\n"
          ]
        }
      ],
      "source": [
        "for color in my_list:\n",
        "    print(f\"This is my favorite {color}\")"
      ]
    },
    {
      "cell_type": "markdown",
      "metadata": {
        "id": "mgGPBmF0RCcr"
      },
      "source": [
        "Dictionary"
      ]
    },
    {
      "cell_type": "code",
      "execution_count": 13,
      "metadata": {
        "id": "8qBuQQduRDki"
      },
      "outputs": [],
      "source": [
        "my_dict = {\"breakfast\": \"eggs\", \"lunch\": \"salad\", \"dinner\": \"chicken\"}"
      ]
    },
    {
      "cell_type": "code",
      "execution_count": 14,
      "metadata": {
        "colab": {
          "base_uri": "https://localhost:8080/"
        },
        "id": "-Jq_C77PRO1w",
        "outputId": "c28dcec1-c87e-4fe7-b131-6155fcd33334"
      },
      "outputs": [
        {
          "data": {
            "text/plain": [
              "dict_keys(['breakfast', 'lunch', 'dinner'])"
            ]
          },
          "execution_count": 14,
          "metadata": {},
          "output_type": "execute_result"
        }
      ],
      "source": [
        "my_dict.keys()"
      ]
    },
    {
      "cell_type": "code",
      "execution_count": 15,
      "metadata": {
        "colab": {
          "base_uri": "https://localhost:8080/"
        },
        "id": "TezHO5RORQHQ",
        "outputId": "1b732421-1919-4bd8-a6eb-0b79f7420ae4"
      },
      "outputs": [
        {
          "data": {
            "text/plain": [
              "dict_values(['eggs', 'salad', 'chicken'])"
            ]
          },
          "execution_count": 15,
          "metadata": {},
          "output_type": "execute_result"
        }
      ],
      "source": [
        "my_dict.values()"
      ]
    },
    {
      "cell_type": "code",
      "execution_count": 16,
      "metadata": {
        "colab": {
          "base_uri": "https://localhost:8080/"
        },
        "id": "DzUaCk9gRSdg",
        "outputId": "e595cb0e-92ef-4a09-b4fc-485b9827d817"
      },
      "outputs": [
        {
          "name": "stdout",
          "output_type": "stream",
          "text": [
            "For this breakfast, I like to eat eggs\n",
            "For this lunch, I like to eat salad\n",
            "For this dinner, I like to eat chicken\n"
          ]
        }
      ],
      "source": [
        "for meal_time, meal in my_dict.items():\n",
        "    print(f\"For this {meal_time}, I like to eat {meal}\")"
      ]
    },
    {
      "cell_type": "code",
      "execution_count": null,
      "metadata": {
        "id": "etGds2V1Rgwl"
      },
      "outputs": [],
      "source": []
    },
    {
      "cell_type": "markdown",
      "metadata": {
        "id": "1o7Tb8u6R4q0"
      },
      "source": [
        "#### Functions"
      ]
    },
    {
      "cell_type": "code",
      "execution_count": 17,
      "metadata": {
        "id": "c5V4yvYiR57o"
      },
      "outputs": [],
      "source": [
        "def my_add(x, y):\n",
        "    result = x + y\n",
        "    return result"
      ]
    },
    {
      "cell_type": "code",
      "execution_count": 18,
      "metadata": {
        "colab": {
          "base_uri": "https://localhost:8080/"
        },
        "id": "Gw2qXXrPSCzj",
        "outputId": "b94491c9-bfa8-4039-92b6-553f8e760b33"
      },
      "outputs": [
        {
          "data": {
            "text/plain": [
              "4"
            ]
          },
          "execution_count": 18,
          "metadata": {},
          "output_type": "execute_result"
        }
      ],
      "source": [
        "my_add(2,2)"
      ]
    },
    {
      "cell_type": "code",
      "execution_count": 20,
      "metadata": {
        "id": "m9eVZbq5SIHR"
      },
      "outputs": [],
      "source": [
        "!pip -q install wikipedia"
      ]
    },
    {
      "cell_type": "code",
      "execution_count": 21,
      "metadata": {
        "id": "SZBbdhBZSRFE"
      },
      "outputs": [],
      "source": [
        "import wikipedia"
      ]
    },
    {
      "cell_type": "code",
      "execution_count": 27,
      "metadata": {
        "colab": {
          "base_uri": "https://localhost:8080/",
          "height": 35
        },
        "id": "wrPHgIIaSZV6",
        "outputId": "c672e037-c4a8-4572-be33-0010d3d343fd"
      },
      "outputs": [
        {
          "data": {
            "application/vnd.google.colaboratory.intrinsic+json": {
              "type": "string"
            },
            "text/plain": [
              "'A war god in mythology associated with war, combat, or bloodshed.'"
            ]
          },
          "execution_count": 27,
          "metadata": {},
          "output_type": "execute_result"
        }
      ],
      "source": [
        "wikipedia.summary(\"War Goddess\",sentences=1)"
      ]
    },
    {
      "cell_type": "code",
      "execution_count": 29,
      "metadata": {
        "id": "h4bkNC9MScJ3"
      },
      "outputs": [],
      "source": [
        "def wiki(name=\"War Goddess\", length=1):\n",
        "    \"\"\"This is a wikipedia fetcher\"\"\"\n",
        "    \n",
        "    my_wiki = wikipedia.summary(name, length)\n",
        "    return my_wiki"
      ]
    },
    {
      "cell_type": "code",
      "execution_count": 30,
      "metadata": {
        "colab": {
          "base_uri": "https://localhost:8080/",
          "height": 35
        },
        "id": "bQKkgBCUTJmB",
        "outputId": "5ce04bbb-d6ee-4c38-cbd4-390480e38b90"
      },
      "outputs": [
        {
          "data": {
            "application/vnd.google.colaboratory.intrinsic+json": {
              "type": "string"
            },
            "text/plain": [
              "'A war god in mythology associated with war, combat, or bloodshed.'"
            ]
          },
          "execution_count": 30,
          "metadata": {},
          "output_type": "execute_result"
        }
      ],
      "source": [
        "wiki()"
      ]
    },
    {
      "cell_type": "code",
      "execution_count": 31,
      "metadata": {
        "id": "Yp70R-woTSYf"
      },
      "outputs": [],
      "source": [
        "result = wiki()"
      ]
    },
    {
      "cell_type": "code",
      "execution_count": 32,
      "metadata": {
        "colab": {
          "base_uri": "https://localhost:8080/"
        },
        "id": "sZFTnU3ETXqE",
        "outputId": "27286a20-d312-4516-f920-c128de30d41f"
      },
      "outputs": [
        {
          "name": "stdout",
          "output_type": "stream",
          "text": [
            "A war god in mythology associated with war, combat, or bloodshed.\n"
          ]
        }
      ],
      "source": [
        "print(result)"
      ]
    },
    {
      "cell_type": "code",
      "execution_count": null,
      "metadata": {
        "id": "wnkhgdAJTZe1"
      },
      "outputs": [],
      "source": []
    }
  ],
  "metadata": {
    "colab": {
      "authorship_tag": "ABX9TyOh0HlVdETveOKMycf5BGTZ",
      "collapsed_sections": [
        "19kLrCcsPX3Q",
        "Bxds-FAxPy2n"
      ],
      "include_colab_link": true,
      "machine_shape": "hm",
      "name": "intro-concepts.ipynb",
      "provenance": []
    },
    "kernelspec": {
      "display_name": "Python 3",
      "name": "python3"
    },
    "language_info": {
      "codemirror_mode": {
        "name": "ipython",
        "version": 3
      },
      "file_extension": ".py",
      "mimetype": "text/x-python",
      "name": "python",
      "nbconvert_exporter": "python",
      "pygments_lexer": "ipython3",
      "version": "3.8.12"
    }
  },
  "nbformat": 4,
  "nbformat_minor": 0
}
